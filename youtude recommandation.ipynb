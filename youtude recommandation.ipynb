{
 "cells": [
  {
   "cell_type": "markdown",
   "metadata": {},
   "source": [
    "#### 유튜브 추천 시스템"
   ]
  },
  {
   "cell_type": "code",
   "execution_count": 2,
   "metadata": {},
   "outputs": [
    {
     "name": "stdout",
     "output_type": "stream",
     "text": [
      "        movieId                                              title  \\\n",
      "0             1                                   Toy Story (1995)   \n",
      "1             1                                   Toy Story (1995)   \n",
      "2             1                                   Toy Story (1995)   \n",
      "3             1                                   Toy Story (1995)   \n",
      "4             1                                   Toy Story (1995)   \n",
      "...         ...                                                ...   \n",
      "99999    161944              The Last Brickmaker in America (2001)   \n",
      "100000   162376                                    Stranger Things   \n",
      "100001   162542                                      Rustom (2016)   \n",
      "100002   162672                                Mohenjo Daro (2016)   \n",
      "100003   163949  The Beatles: Eight Days a Week - The Touring Y...   \n",
      "\n",
      "                                             genres  userId  rating  \\\n",
      "0       Adventure|Animation|Children|Comedy|Fantasy       7     3.0   \n",
      "1       Adventure|Animation|Children|Comedy|Fantasy       9     4.0   \n",
      "2       Adventure|Animation|Children|Comedy|Fantasy      13     5.0   \n",
      "3       Adventure|Animation|Children|Comedy|Fantasy      15     2.0   \n",
      "4       Adventure|Animation|Children|Comedy|Fantasy      19     3.0   \n",
      "...                                             ...     ...     ...   \n",
      "99999                                         Drama     287     5.0   \n",
      "100000                                        Drama      73     4.5   \n",
      "100001                             Romance|Thriller     611     5.0   \n",
      "100002                      Adventure|Drama|Romance     611     3.0   \n",
      "100003                                  Documentary     547     5.0   \n",
      "\n",
      "         timestamp  \n",
      "0        851866703  \n",
      "1        938629179  \n",
      "2       1331380058  \n",
      "3        997938310  \n",
      "4        855190091  \n",
      "...            ...  \n",
      "99999   1470167824  \n",
      "100000  1474255532  \n",
      "100001  1471520667  \n",
      "100002  1471523986  \n",
      "100003  1476419239  \n",
      "\n",
      "[100004 rows x 6 columns]\n"
     ]
    }
   ],
   "source": [
    "import pandas as pd\n",
    "movies = pd.read_csv(\"./data/movies.csv\")\n",
    "ratings = pd.read_csv(\"./data/ratings.csv\")\n",
    "\n",
    "movie_ratings = pd.merge(movies, ratings, on='movieId')\n",
    "print(movie_ratings)"
   ]
  },
  {
   "cell_type": "code",
   "execution_count": 4,
   "metadata": {
    "scrolled": true
   },
   "outputs": [
    {
     "name": "stdout",
     "output_type": "stream",
     "text": [
      "        movieId                                              title  \\\n",
      "0             1                                   Toy Story (1995)   \n",
      "1             1                                   Toy Story (1995)   \n",
      "2             1                                   Toy Story (1995)   \n",
      "3             1                                   Toy Story (1995)   \n",
      "4             1                                   Toy Story (1995)   \n",
      "...         ...                                                ...   \n",
      "99999    161944              The Last Brickmaker in America (2001)   \n",
      "100000   162376                                    Stranger Things   \n",
      "100001   162542                                      Rustom (2016)   \n",
      "100002   162672                                Mohenjo Daro (2016)   \n",
      "100003   163949  The Beatles: Eight Days a Week - The Touring Y...   \n",
      "\n",
      "                                             genres  userId  rating  \\\n",
      "0       Adventure|Animation|Children|Comedy|Fantasy       7     3.0   \n",
      "1       Adventure|Animation|Children|Comedy|Fantasy       9     4.0   \n",
      "2       Adventure|Animation|Children|Comedy|Fantasy      13     5.0   \n",
      "3       Adventure|Animation|Children|Comedy|Fantasy      15     2.0   \n",
      "4       Adventure|Animation|Children|Comedy|Fantasy      19     3.0   \n",
      "...                                             ...     ...     ...   \n",
      "99999                                         Drama     287     5.0   \n",
      "100000                                        Drama      73     4.5   \n",
      "100001                             Romance|Thriller     611     5.0   \n",
      "100002                      Adventure|Drama|Romance     611     3.0   \n",
      "100003                                  Documentary     547     5.0   \n",
      "\n",
      "         timestamp movie_type  \n",
      "0        851866703       like  \n",
      "1        938629179       like  \n",
      "2       1331380058       like  \n",
      "3        997938310    dislike  \n",
      "4        855190091       like  \n",
      "...            ...        ...  \n",
      "99999   1470167824       like  \n",
      "100000  1474255532       like  \n",
      "100001  1471520667       like  \n",
      "100002  1471523986       like  \n",
      "100003  1476419239       like  \n",
      "\n",
      "[100004 rows x 7 columns]\n"
     ]
    }
   ],
   "source": [
    "import numpy as np\n",
    "\n",
    "movie_ratings['movie_type'] = np.where(movie_ratings['rating'] >= 3, 'like', 'dislike')\n",
    "print(movie_ratings)"
   ]
  },
  {
   "cell_type": "markdown",
   "metadata": {},
   "source": [
    "#### 정수인코딩"
   ]
  },
  {
   "cell_type": "code",
   "execution_count": 9,
   "metadata": {
    "scrolled": true
   },
   "outputs": [],
   "source": [
    "user_ids = movie_ratings['userId'].unique().tolist()\n",
    "# print(user_ids)\n",
    "\n",
    "user_to_index = {x: i for i, x in enumerate(user_ids)}\n",
    "index_to_user = {i: x for i, x in enumerate(user_ids)}\n",
    "# print(user_to_index)\n",
    "\n",
    "movie_ids = movie_ratings['movieId'].unique().tolist()\n",
    "movie_to_index = {x: i for i, x in enumerate(movie_ids)}\n",
    "index_to_movie = {i: x for i, x in enumerate(movie_ids)}\n",
    "\n",
    "movie_ratings['userId'] = movie_ratings['userId'].map(user_to_index)\n",
    "movie_ratings['movieId'] = movie_ratings['movieId'].map(movie_to_index)"
   ]
  },
  {
   "cell_type": "code",
   "execution_count": 10,
   "metadata": {},
   "outputs": [
    {
     "name": "stdout",
     "output_type": "stream",
     "text": [
      "        movieId                                              title  \\\n",
      "0             0                                   Toy Story (1995)   \n",
      "1             0                                   Toy Story (1995)   \n",
      "2             0                                   Toy Story (1995)   \n",
      "3             0                                   Toy Story (1995)   \n",
      "4             0                                   Toy Story (1995)   \n",
      "...         ...                                                ...   \n",
      "99999      9061              The Last Brickmaker in America (2001)   \n",
      "100000     9062                                    Stranger Things   \n",
      "100001     9063                                      Rustom (2016)   \n",
      "100002     9064                                Mohenjo Daro (2016)   \n",
      "100003     9065  The Beatles: Eight Days a Week - The Touring Y...   \n",
      "\n",
      "                                             genres  userId  rating  \\\n",
      "0       Adventure|Animation|Children|Comedy|Fantasy       0     3.0   \n",
      "1       Adventure|Animation|Children|Comedy|Fantasy       1     4.0   \n",
      "2       Adventure|Animation|Children|Comedy|Fantasy       2     5.0   \n",
      "3       Adventure|Animation|Children|Comedy|Fantasy       3     2.0   \n",
      "4       Adventure|Animation|Children|Comedy|Fantasy       4     3.0   \n",
      "...                                             ...     ...     ...   \n",
      "99999                                         Drama      89     5.0   \n",
      "100000                                        Drama      21     4.5   \n",
      "100001                             Romance|Thriller     537     5.0   \n",
      "100002                      Adventure|Drama|Romance     537     3.0   \n",
      "100003                                  Documentary     183     5.0   \n",
      "\n",
      "         timestamp movie_type  \n",
      "0        851866703       like  \n",
      "1        938629179       like  \n",
      "2       1331380058       like  \n",
      "3        997938310    dislike  \n",
      "4        855190091       like  \n",
      "...            ...        ...  \n",
      "99999   1470167824       like  \n",
      "100000  1474255532       like  \n",
      "100001  1471520667       like  \n",
      "100002  1471523986       like  \n",
      "100003  1476419239       like  \n",
      "\n",
      "[100004 rows x 7 columns]\n"
     ]
    }
   ],
   "source": [
    "print(movie_ratings)"
   ]
  },
  {
   "cell_type": "code",
   "execution_count": 12,
   "metadata": {},
   "outputs": [
    {
     "name": "stdout",
     "output_type": "stream",
     "text": [
      "      userId movie_type                                            movieId\n",
      "0          0    dislike         [174, 282, 610, 617, 618, 650, 1113, 1143]\n",
      "1          0       like  [0, 9, 20, 30, 32, 38, 96, 100, 102, 122, 130,...\n",
      "2          1    dislike                      [615, 1231, 1815, 1936, 2035]\n",
      "3          1       like  [0, 16, 25, 34, 45, 284, 444, 461, 472, 478, 5...\n",
      "4          2    dislike                                   [45, 1019, 3427]\n",
      "...      ...        ...                                                ...\n",
      "1099     574       like  [856, 941, 1154, 1185, 1269, 1285, 1288, 1289,...\n",
      "1100     575    dislike         [1454, 1472, 1473, 1568, 1587, 1685, 1741]\n",
      "1101     575       like  [1448, 1450, 1453, 1456, 1458, 1462, 1480, 148...\n",
      "1102     576    dislike               [1765, 1817, 1836, 1865, 1894, 1895]\n",
      "1103     576       like  [1763, 1798, 1802, 1825, 1832, 1833, 1842, 184...\n",
      "\n",
      "[1104 rows x 3 columns]\n",
      "     userId                                            movieId\n",
      "0         0  [0, 9, 20, 30, 32, 38, 96, 100, 102, 122, 130,...\n",
      "1         1  [0, 16, 25, 34, 45, 284, 444, 461, 472, 478, 5...\n",
      "2         2  [0, 45, 100, 249, 266, 284, 321, 326, 427, 470...\n",
      "3         3  [0, 1, 4, 5, 9, 10, 13, 15, 16, 18, 20, 21, 24...\n",
      "4         4  [0, 1, 2, 3, 5, 6, 8, 9, 10, 13, 15, 20, 21, 2...\n",
      "..      ...                                                ...\n",
      "572     572  [723, 951, 1288, 1691, 2098, 2553, 3113, 3145,...\n",
      "573     573  [829, 954, 966, 1523, 1590, 2608, 2705, 2884, ...\n",
      "574     574  [856, 941, 1154, 1185, 1197, 1257, 1269, 1285,...\n",
      "575     575  [1448, 1450, 1453, 1454, 1456, 1458, 1462, 147...\n",
      "576     576  [1763, 1765, 1798, 1802, 1817, 1825, 1832, 183...\n",
      "\n",
      "[577 rows x 2 columns]\n"
     ]
    }
   ],
   "source": [
    "# 사용자 마다 어떤 영상을 좋아했고, 싫어했고, 시청했는지\n",
    "# 사용자 히스토리 만드는 중...\n",
    "movie_list = movie_ratings.groupby(['userId', 'movie_type'])['movieId'].apply(list).reset_index()\n",
    "title_list = movie_ratings.groupby(['userId'])['movieId'].apply(list).reset_index()\n",
    "\n",
    "print(movie_list)\n",
    "print(title_list)"
   ]
  },
  {
   "cell_type": "code",
   "execution_count": 13,
   "metadata": {
    "scrolled": true
   },
   "outputs": [
    {
     "name": "stdout",
     "output_type": "stream",
     "text": [
      "movie_type  userId                                            dislike  \\\n",
      "0                0         [174, 282, 610, 617, 618, 650, 1113, 1143]   \n",
      "1                1                      [615, 1231, 1815, 1936, 2035]   \n",
      "2                2                                   [45, 1019, 3427]   \n",
      "3                3  [0, 1, 10, 13, 18, 21, 34, 37, 49, 58, 65, 87,...   \n",
      "4                4  [22, 60, 145, 151, 156, 158, 185, 238, 248, 33...   \n",
      "..             ...                                                ...   \n",
      "572            572                           [1691, 3182, 3194, 3195]   \n",
      "573            573                [954, 2884, 4066, 4157, 4336, 4378]   \n",
      "574            574                           [1197, 1257, 1332, 1354]   \n",
      "575            575         [1454, 1472, 1473, 1568, 1587, 1685, 1741]   \n",
      "576            576               [1765, 1817, 1836, 1865, 1894, 1895]   \n",
      "\n",
      "movie_type                                               like  \n",
      "0           [0, 9, 20, 30, 32, 38, 96, 100, 102, 122, 130,...  \n",
      "1           [0, 16, 25, 34, 45, 284, 444, 461, 472, 478, 5...  \n",
      "2           [0, 100, 249, 266, 284, 321, 326, 427, 470, 47...  \n",
      "3           [4, 5, 9, 15, 16, 20, 24, 31, 32, 42, 45, 48, ...  \n",
      "4           [0, 1, 2, 3, 5, 6, 8, 9, 10, 13, 15, 20, 21, 2...  \n",
      "..                                                        ...  \n",
      "572         [723, 951, 1288, 2098, 2553, 3113, 3145, 3169,...  \n",
      "573         [829, 966, 1523, 1590, 2608, 2705, 3212, 3405,...  \n",
      "574         [856, 941, 1154, 1185, 1269, 1285, 1288, 1289,...  \n",
      "575         [1448, 1450, 1453, 1456, 1458, 1462, 1480, 148...  \n",
      "576         [1763, 1798, 1802, 1825, 1832, 1833, 1842, 184...  \n",
      "\n",
      "[577 rows x 3 columns]\n"
     ]
    }
   ],
   "source": [
    "user_movie_list = movie_list.pivot(index='userId', columns='movie_type', values='movieId').reset_index()\n",
    "print(user_movie_list)"
   ]
  },
  {
   "cell_type": "code",
   "execution_count": 14,
   "metadata": {},
   "outputs": [],
   "source": [
    "# 결측치 => 사용자가 아무런 영상도 보지 않았을 때\n",
    "# 결측치가 있을수가 있으므로 값을 채워주자 => 아무영화도 추천할 수 없음에 대한 index=9066\n",
    "# 9065 => 9065인덱스를 가진 영화를 추천\n",
    "# fillna => 결측치값은 모두 [9066]으로 임의의 영화를 넣어줌.\n",
    "\n",
    "user_movie_list.fillna(9066, inplace=True)\n",
    "user_movie_list['like'] = user_movie_list['like'].apply(lambda x: x if type(x) is list else [x])\n",
    "user_movie_list['dislike'] = user_movie_list['dislike'].apply(lambda x: x if type(x) is list else [x])"
   ]
  },
  {
   "cell_type": "code",
   "execution_count": 16,
   "metadata": {
    "scrolled": false
   },
   "outputs": [
    {
     "name": "stdout",
     "output_type": "stream",
     "text": [
      "     userId                                            dislike  \\\n",
      "0         0         [174, 282, 610, 617, 618, 650, 1113, 1143]   \n",
      "1         1                      [615, 1231, 1815, 1936, 2035]   \n",
      "2         2                                   [45, 1019, 3427]   \n",
      "3         3  [0, 1, 10, 13, 18, 21, 34, 37, 49, 58, 65, 87,...   \n",
      "4         4  [22, 60, 145, 151, 156, 158, 185, 238, 248, 33...   \n",
      "..      ...                                                ...   \n",
      "572     572                           [1691, 3182, 3194, 3195]   \n",
      "573     573                [954, 2884, 4066, 4157, 4336, 4378]   \n",
      "574     574                           [1197, 1257, 1332, 1354]   \n",
      "575     575         [1454, 1472, 1473, 1568, 1587, 1685, 1741]   \n",
      "576     576               [1765, 1817, 1836, 1865, 1894, 1895]   \n",
      "\n",
      "                                                  like  \\\n",
      "0    [0, 9, 20, 30, 32, 38, 96, 100, 102, 122, 130,...   \n",
      "1    [0, 16, 25, 34, 45, 284, 444, 461, 472, 478, 5...   \n",
      "2    [0, 100, 249, 266, 284, 321, 326, 427, 470, 47...   \n",
      "3    [4, 5, 9, 15, 16, 20, 24, 31, 32, 42, 45, 48, ...   \n",
      "4    [0, 1, 2, 3, 5, 6, 8, 9, 10, 13, 15, 20, 21, 2...   \n",
      "..                                                 ...   \n",
      "572  [723, 951, 1288, 2098, 2553, 3113, 3145, 3169,...   \n",
      "573  [829, 966, 1523, 1590, 2608, 2705, 3212, 3405,...   \n",
      "574  [856, 941, 1154, 1185, 1269, 1285, 1288, 1289,...   \n",
      "575  [1448, 1450, 1453, 1456, 1458, 1462, 1480, 148...   \n",
      "576  [1763, 1798, 1802, 1825, 1832, 1833, 1842, 184...   \n",
      "\n",
      "                                               movieId  predict_labels  \n",
      "0    [0, 9, 20, 30, 32, 38, 96, 100, 102, 122, 130,...            1140  \n",
      "1    [0, 16, 25, 34, 45, 284, 444, 461, 472, 478, 5...            2287  \n",
      "2    [0, 45, 100, 249, 266, 284, 321, 326, 427, 470...            7993  \n",
      "3    [0, 1, 4, 5, 9, 10, 13, 15, 16, 18, 20, 21, 24...            9052  \n",
      "4    [0, 1, 2, 3, 5, 6, 8, 9, 10, 13, 15, 20, 21, 2...            3851  \n",
      "..                                                 ...             ...  \n",
      "572  [723, 951, 1288, 1691, 2098, 2553, 3113, 3145,...            3210  \n",
      "573  [829, 954, 966, 1523, 1590, 2608, 2705, 2884, ...            4139  \n",
      "574  [856, 941, 1154, 1185, 1197, 1257, 1269, 1285,...            1364  \n",
      "575  [1448, 1450, 1453, 1454, 1456, 1458, 1462, 147...            1739  \n",
      "576  [1763, 1765, 1798, 1802, 1817, 1825, 1832, 183...            1902  \n",
      "\n",
      "[577 rows x 5 columns]\n"
     ]
    }
   ],
   "source": [
    "user_final_list = pd.merge(user_movie_list, title_list, how='left')\n",
    "# 신경망에 넣으려먼 x값에 따른 y값이 있어야한다.\n",
    "# x값(유저히스토리) => y값(유저가 다음으로 볼 영상의 인덱스값)\n",
    "# 사용자가 마지막으로 좋아요를 누른 영화를 빼내서 y값으로 지정\n",
    "\n",
    "user_final_list['predict_labels'] = user_final_list['like'].apply(lambda x: (x[-1]))\n",
    "user_final_list['like'] = user_final_list['like'].apply(lambda x: (x[:-1]))\n",
    "print(user_final_list)"
   ]
  },
  {
   "cell_type": "code",
   "execution_count": null,
   "metadata": {},
   "outputs": [],
   "source": []
  },
  {
   "cell_type": "code",
   "execution_count": null,
   "metadata": {},
   "outputs": [],
   "source": []
  },
  {
   "cell_type": "code",
   "execution_count": null,
   "metadata": {},
   "outputs": [],
   "source": []
  }
 ],
 "metadata": {
  "kernelspec": {
   "display_name": "Python 3",
   "language": "python",
   "name": "python3"
  },
  "language_info": {
   "codemirror_mode": {
    "name": "ipython",
    "version": 3
   },
   "file_extension": ".py",
   "mimetype": "text/x-python",
   "name": "python",
   "nbconvert_exporter": "python",
   "pygments_lexer": "ipython3",
   "version": "3.7.6"
  }
 },
 "nbformat": 4,
 "nbformat_minor": 4
}
