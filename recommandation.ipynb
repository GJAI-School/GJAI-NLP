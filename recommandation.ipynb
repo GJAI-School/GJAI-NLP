{
 "cells": [
  {
   "cell_type": "code",
   "execution_count": 1,
   "metadata": {},
   "outputs": [],
   "source": [
    "import pandas as pd\n",
    "import numpy as np\n",
    "from ast import literal_eval"
   ]
  },
  {
   "cell_type": "code",
   "execution_count": 7,
   "metadata": {
    "scrolled": true
   },
   "outputs": [
    {
     "name": "stdout",
     "output_type": "stream",
     "text": [
      "         budget                                             genres  \\\n",
      "0     237000000  [{\"id\": 28, \"name\": \"Action\"}, {\"id\": 12, \"nam...   \n",
      "1     300000000  [{\"id\": 12, \"name\": \"Adventure\"}, {\"id\": 14, \"...   \n",
      "2     245000000  [{\"id\": 28, \"name\": \"Action\"}, {\"id\": 12, \"nam...   \n",
      "3     250000000  [{\"id\": 28, \"name\": \"Action\"}, {\"id\": 80, \"nam...   \n",
      "4     260000000  [{\"id\": 28, \"name\": \"Action\"}, {\"id\": 12, \"nam...   \n",
      "...         ...                                                ...   \n",
      "4798     220000  [{\"id\": 28, \"name\": \"Action\"}, {\"id\": 80, \"nam...   \n",
      "4799       9000  [{\"id\": 35, \"name\": \"Comedy\"}, {\"id\": 10749, \"...   \n",
      "4800          0  [{\"id\": 35, \"name\": \"Comedy\"}, {\"id\": 18, \"nam...   \n",
      "4801          0                                                 []   \n",
      "4802          0                [{\"id\": 99, \"name\": \"Documentary\"}]   \n",
      "\n",
      "                                               homepage      id  \\\n",
      "0                           http://www.avatarmovie.com/   19995   \n",
      "1          http://disney.go.com/disneypictures/pirates/     285   \n",
      "2           http://www.sonypictures.com/movies/spectre/  206647   \n",
      "3                    http://www.thedarkknightrises.com/   49026   \n",
      "4                  http://movies.disney.com/john-carter   49529   \n",
      "...                                                 ...     ...   \n",
      "4798                                                NaN    9367   \n",
      "4799                                                NaN   72766   \n",
      "4800  http://www.hallmarkchannel.com/signedsealeddel...  231617   \n",
      "4801                        http://shanghaicalling.com/  126186   \n",
      "4802                                                NaN   25975   \n",
      "\n",
      "                                               keywords original_language  \\\n",
      "0     [{\"id\": 1463, \"name\": \"culture clash\"}, {\"id\":...                en   \n",
      "1     [{\"id\": 270, \"name\": \"ocean\"}, {\"id\": 726, \"na...                en   \n",
      "2     [{\"id\": 470, \"name\": \"spy\"}, {\"id\": 818, \"name...                en   \n",
      "3     [{\"id\": 849, \"name\": \"dc comics\"}, {\"id\": 853,...                en   \n",
      "4     [{\"id\": 818, \"name\": \"based on novel\"}, {\"id\":...                en   \n",
      "...                                                 ...               ...   \n",
      "4798  [{\"id\": 5616, \"name\": \"united states\\u2013mexi...                es   \n",
      "4799                                                 []                en   \n",
      "4800  [{\"id\": 248, \"name\": \"date\"}, {\"id\": 699, \"nam...                en   \n",
      "4801                                                 []                en   \n",
      "4802  [{\"id\": 1523, \"name\": \"obsession\"}, {\"id\": 224...                en   \n",
      "\n",
      "                                original_title  \\\n",
      "0                                       Avatar   \n",
      "1     Pirates of the Caribbean: At World's End   \n",
      "2                                      Spectre   \n",
      "3                        The Dark Knight Rises   \n",
      "4                                  John Carter   \n",
      "...                                        ...   \n",
      "4798                               El Mariachi   \n",
      "4799                                 Newlyweds   \n",
      "4800                 Signed, Sealed, Delivered   \n",
      "4801                          Shanghai Calling   \n",
      "4802                         My Date with Drew   \n",
      "\n",
      "                                               overview  popularity  \\\n",
      "0     In the 22nd century, a paraplegic Marine is di...  150.437577   \n",
      "1     Captain Barbossa, long believed to be dead, ha...  139.082615   \n",
      "2     A cryptic message from Bond’s past sends him o...  107.376788   \n",
      "3     Following the death of District Attorney Harve...  112.312950   \n",
      "4     John Carter is a war-weary, former military ca...   43.926995   \n",
      "...                                                 ...         ...   \n",
      "4798  El Mariachi just wants to play his guitar and ...   14.269792   \n",
      "4799  A newlywed couple's honeymoon is upended by th...    0.642552   \n",
      "4800  \"Signed, Sealed, Delivered\" introduces a dedic...    1.444476   \n",
      "4801  When ambitious New York attorney Sam is sent t...    0.857008   \n",
      "4802  Ever since the second grade when he first saw ...    1.929883   \n",
      "\n",
      "                                   production_companies  \\\n",
      "0     [{\"name\": \"Ingenious Film Partners\", \"id\": 289...   \n",
      "1     [{\"name\": \"Walt Disney Pictures\", \"id\": 2}, {\"...   \n",
      "2     [{\"name\": \"Columbia Pictures\", \"id\": 5}, {\"nam...   \n",
      "3     [{\"name\": \"Legendary Pictures\", \"id\": 923}, {\"...   \n",
      "4           [{\"name\": \"Walt Disney Pictures\", \"id\": 2}]   \n",
      "...                                                 ...   \n",
      "4798           [{\"name\": \"Columbia Pictures\", \"id\": 5}]   \n",
      "4799                                                 []   \n",
      "4800  [{\"name\": \"Front Street Pictures\", \"id\": 3958}...   \n",
      "4801                                                 []   \n",
      "4802  [{\"name\": \"rusty bear entertainment\", \"id\": 87...   \n",
      "\n",
      "                                   production_countries release_date  \\\n",
      "0     [{\"iso_3166_1\": \"US\", \"name\": \"United States o...   2009-12-10   \n",
      "1     [{\"iso_3166_1\": \"US\", \"name\": \"United States o...   2007-05-19   \n",
      "2     [{\"iso_3166_1\": \"GB\", \"name\": \"United Kingdom\"...   2015-10-26   \n",
      "3     [{\"iso_3166_1\": \"US\", \"name\": \"United States o...   2012-07-16   \n",
      "4     [{\"iso_3166_1\": \"US\", \"name\": \"United States o...   2012-03-07   \n",
      "...                                                 ...          ...   \n",
      "4798  [{\"iso_3166_1\": \"MX\", \"name\": \"Mexico\"}, {\"iso...   1992-09-04   \n",
      "4799                                                 []   2011-12-26   \n",
      "4800  [{\"iso_3166_1\": \"US\", \"name\": \"United States o...   2013-10-13   \n",
      "4801  [{\"iso_3166_1\": \"US\", \"name\": \"United States o...   2012-05-03   \n",
      "4802  [{\"iso_3166_1\": \"US\", \"name\": \"United States o...   2005-08-05   \n",
      "\n",
      "         revenue  runtime                                   spoken_languages  \\\n",
      "0     2787965087    162.0  [{\"iso_639_1\": \"en\", \"name\": \"English\"}, {\"iso...   \n",
      "1      961000000    169.0           [{\"iso_639_1\": \"en\", \"name\": \"English\"}]   \n",
      "2      880674609    148.0  [{\"iso_639_1\": \"fr\", \"name\": \"Fran\\u00e7ais\"},...   \n",
      "3     1084939099    165.0           [{\"iso_639_1\": \"en\", \"name\": \"English\"}]   \n",
      "4      284139100    132.0           [{\"iso_639_1\": \"en\", \"name\": \"English\"}]   \n",
      "...          ...      ...                                                ...   \n",
      "4798     2040920     81.0      [{\"iso_639_1\": \"es\", \"name\": \"Espa\\u00f1ol\"}]   \n",
      "4799           0     85.0                                                 []   \n",
      "4800           0    120.0           [{\"iso_639_1\": \"en\", \"name\": \"English\"}]   \n",
      "4801           0     98.0           [{\"iso_639_1\": \"en\", \"name\": \"English\"}]   \n",
      "4802           0     90.0           [{\"iso_639_1\": \"en\", \"name\": \"English\"}]   \n",
      "\n",
      "        status                                            tagline  \\\n",
      "0     Released                        Enter the World of Pandora.   \n",
      "1     Released     At the end of the world, the adventure begins.   \n",
      "2     Released                              A Plan No One Escapes   \n",
      "3     Released                                    The Legend Ends   \n",
      "4     Released               Lost in our world, found in another.   \n",
      "...        ...                                                ...   \n",
      "4798  Released  He didn't come looking for trouble, but troubl...   \n",
      "4799  Released  A newlywed couple's honeymoon is upended by th...   \n",
      "4800  Released                                                NaN   \n",
      "4801  Released                           A New Yorker in Shanghai   \n",
      "4802  Released                                                NaN   \n",
      "\n",
      "                                         title  vote_average  vote_count  \n",
      "0                                       Avatar           7.2       11800  \n",
      "1     Pirates of the Caribbean: At World's End           6.9        4500  \n",
      "2                                      Spectre           6.3        4466  \n",
      "3                        The Dark Knight Rises           7.6        9106  \n",
      "4                                  John Carter           6.1        2124  \n",
      "...                                        ...           ...         ...  \n",
      "4798                               El Mariachi           6.6         238  \n",
      "4799                                 Newlyweds           5.9           5  \n",
      "4800                 Signed, Sealed, Delivered           7.0           6  \n",
      "4801                          Shanghai Calling           5.7           7  \n",
      "4802                         My Date with Drew           6.3          16  \n",
      "\n",
      "[4803 rows x 20 columns]\n"
     ]
    }
   ],
   "source": [
    "# pd.set_option('display.max_columns', 20)\n",
    "# pd.set_option('display.width', 1000)\n",
    "\n",
    "movies = pd.read_csv('./data/tmdb_5000_movies.csv')\n",
    "print(movies)"
   ]
  },
  {
   "cell_type": "code",
   "execution_count": 8,
   "metadata": {
    "scrolled": true
   },
   "outputs": [
    {
     "name": "stdout",
     "output_type": "stream",
     "text": [
      "                                         title  \\\n",
      "0                                       Avatar   \n",
      "1     Pirates of the Caribbean: At World's End   \n",
      "2                                      Spectre   \n",
      "3                        The Dark Knight Rises   \n",
      "4                                  John Carter   \n",
      "...                                        ...   \n",
      "4798                               El Mariachi   \n",
      "4799                                 Newlyweds   \n",
      "4800                 Signed, Sealed, Delivered   \n",
      "4801                          Shanghai Calling   \n",
      "4802                         My Date with Drew   \n",
      "\n",
      "                                                 genres  \\\n",
      "0     [{\"id\": 28, \"name\": \"Action\"}, {\"id\": 12, \"nam...   \n",
      "1     [{\"id\": 12, \"name\": \"Adventure\"}, {\"id\": 14, \"...   \n",
      "2     [{\"id\": 28, \"name\": \"Action\"}, {\"id\": 12, \"nam...   \n",
      "3     [{\"id\": 28, \"name\": \"Action\"}, {\"id\": 80, \"nam...   \n",
      "4     [{\"id\": 28, \"name\": \"Action\"}, {\"id\": 12, \"nam...   \n",
      "...                                                 ...   \n",
      "4798  [{\"id\": 28, \"name\": \"Action\"}, {\"id\": 80, \"nam...   \n",
      "4799  [{\"id\": 35, \"name\": \"Comedy\"}, {\"id\": 10749, \"...   \n",
      "4800  [{\"id\": 35, \"name\": \"Comedy\"}, {\"id\": 18, \"nam...   \n",
      "4801                                                 []   \n",
      "4802                [{\"id\": 99, \"name\": \"Documentary\"}]   \n",
      "\n",
      "                                               keywords  \n",
      "0     [{\"id\": 1463, \"name\": \"culture clash\"}, {\"id\":...  \n",
      "1     [{\"id\": 270, \"name\": \"ocean\"}, {\"id\": 726, \"na...  \n",
      "2     [{\"id\": 470, \"name\": \"spy\"}, {\"id\": 818, \"name...  \n",
      "3     [{\"id\": 849, \"name\": \"dc comics\"}, {\"id\": 853,...  \n",
      "4     [{\"id\": 818, \"name\": \"based on novel\"}, {\"id\":...  \n",
      "...                                                 ...  \n",
      "4798  [{\"id\": 5616, \"name\": \"united states\\u2013mexi...  \n",
      "4799                                                 []  \n",
      "4800  [{\"id\": 248, \"name\": \"date\"}, {\"id\": 699, \"nam...  \n",
      "4801                                                 []  \n",
      "4802  [{\"id\": 1523, \"name\": \"obsession\"}, {\"id\": 224...  \n",
      "\n",
      "[4803 rows x 3 columns]\n"
     ]
    }
   ],
   "source": [
    "movies = movies.loc[:,['title', 'genres', 'keywords']]\n",
    "print(movies)"
   ]
  },
  {
   "cell_type": "code",
   "execution_count": 9,
   "metadata": {
    "scrolled": true
   },
   "outputs": [
    {
     "name": "stdout",
     "output_type": "stream",
     "text": [
      "                                         title  \\\n",
      "0                                       Avatar   \n",
      "1     Pirates of the Caribbean: At World's End   \n",
      "2                                      Spectre   \n",
      "3                        The Dark Knight Rises   \n",
      "4                                  John Carter   \n",
      "...                                        ...   \n",
      "4798                               El Mariachi   \n",
      "4799                                 Newlyweds   \n",
      "4800                 Signed, Sealed, Delivered   \n",
      "4801                          Shanghai Calling   \n",
      "4802                         My Date with Drew   \n",
      "\n",
      "                                                 genres  \\\n",
      "0     [{'id': 28, 'name': 'Action'}, {'id': 12, 'nam...   \n",
      "1     [{'id': 12, 'name': 'Adventure'}, {'id': 14, '...   \n",
      "2     [{'id': 28, 'name': 'Action'}, {'id': 12, 'nam...   \n",
      "3     [{'id': 28, 'name': 'Action'}, {'id': 80, 'nam...   \n",
      "4     [{'id': 28, 'name': 'Action'}, {'id': 12, 'nam...   \n",
      "...                                                 ...   \n",
      "4798  [{'id': 28, 'name': 'Action'}, {'id': 80, 'nam...   \n",
      "4799  [{'id': 35, 'name': 'Comedy'}, {'id': 10749, '...   \n",
      "4800  [{'id': 35, 'name': 'Comedy'}, {'id': 18, 'nam...   \n",
      "4801                                                 []   \n",
      "4802                [{'id': 99, 'name': 'Documentary'}]   \n",
      "\n",
      "                                               keywords  \n",
      "0     [{'id': 1463, 'name': 'culture clash'}, {'id':...  \n",
      "1     [{'id': 270, 'name': 'ocean'}, {'id': 726, 'na...  \n",
      "2     [{'id': 470, 'name': 'spy'}, {'id': 818, 'name...  \n",
      "3     [{'id': 849, 'name': 'dc comics'}, {'id': 853,...  \n",
      "4     [{'id': 818, 'name': 'based on novel'}, {'id':...  \n",
      "...                                                 ...  \n",
      "4798  [{'id': 5616, 'name': 'united states–mexico ba...  \n",
      "4799                                                 []  \n",
      "4800  [{'id': 248, 'name': 'date'}, {'id': 699, 'nam...  \n",
      "4801                                                 []  \n",
      "4802  [{'id': 1523, 'name': 'obsession'}, {'id': 224...  \n",
      "\n",
      "[4803 rows x 3 columns]\n"
     ]
    }
   ],
   "source": [
    "# 문자열을 딕셔너리 형태로 변환\n",
    "movies['genres'] = movies['genres'].apply(literal_eval)\n",
    "movies['keywords'] = movies['keywords'].apply(literal_eval)\n",
    "print(movies)"
   ]
  },
  {
   "cell_type": "code",
   "execution_count": 10,
   "metadata": {
    "scrolled": true
   },
   "outputs": [
    {
     "name": "stdout",
     "output_type": "stream",
     "text": [
      "                                         title  \\\n",
      "0                                       Avatar   \n",
      "1     Pirates of the Caribbean: At World's End   \n",
      "2                                      Spectre   \n",
      "3                        The Dark Knight Rises   \n",
      "4                                  John Carter   \n",
      "...                                        ...   \n",
      "4798                               El Mariachi   \n",
      "4799                                 Newlyweds   \n",
      "4800                 Signed, Sealed, Delivered   \n",
      "4801                          Shanghai Calling   \n",
      "4802                         My Date with Drew   \n",
      "\n",
      "                                        genres  \\\n",
      "0     Action Adventure Fantasy Science Fiction   \n",
      "1                     Adventure Fantasy Action   \n",
      "2                       Action Adventure Crime   \n",
      "3                  Action Crime Drama Thriller   \n",
      "4             Action Adventure Science Fiction   \n",
      "...                                        ...   \n",
      "4798                     Action Crime Thriller   \n",
      "4799                            Comedy Romance   \n",
      "4800             Comedy Drama Romance TV Movie   \n",
      "4801                                             \n",
      "4802                               Documentary   \n",
      "\n",
      "                                               keywords  \n",
      "0     culture clash future space war space colony so...  \n",
      "1     ocean drug abuse exotic island east india trad...  \n",
      "2     spy based on novel secret agent sequel mi6 bri...  \n",
      "3     dc comics crime fighter terrorist secret ident...  \n",
      "4     based on novel mars medallion space travel pri...  \n",
      "...                                                 ...  \n",
      "4798  united states–mexico barrier legs arms paper k...  \n",
      "4799                                                     \n",
      "4800  date love at first sight narration investigati...  \n",
      "4801                                                     \n",
      "4802               obsession camcorder crush dream girl  \n",
      "\n",
      "[4803 rows x 3 columns]\n"
     ]
    }
   ],
   "source": [
    "i = 0\n",
    "\n",
    "# for row in movies['genres']:\n",
    "#     genres = []\n",
    "#     for ele in row:\n",
    "#         genres.append(ele['name'])\n",
    "#     movies['genres'][i] = genres\n",
    "#     i += 1\n",
    "# print(movies)\n",
    "\n",
    "\n",
    "movies['genres'] = movies['genres'].apply(lambda x : [y['name'] for y in x])\n",
    "movies['keywords'] = movies['keywords'].apply(lambda x : [y['name'] for y in x])\n",
    "movies['genres'] = movies['genres'].apply(lambda x : ' '.join(x))\n",
    "movies['keywords'] = movies['keywords'].apply(lambda x : ' '.join(x))\n",
    "\n",
    "print(movies)"
   ]
  },
  {
   "cell_type": "code",
   "execution_count": 20,
   "metadata": {
    "scrolled": true
   },
   "outputs": [
    {
     "name": "stdout",
     "output_type": "stream",
     "text": [
      "dict_items([('action', 0), ('adventure', 16), ('fantasy', 124), ('science', 232), ('fiction', 138), ('action adventure', 1), ('adventure fantasy', 24), ('fantasy science', 135), ('science fiction', 233), ('fantasy action', 125), ('crime', 64), ('adventure crime', 20), ('drama', 90), ('thriller', 234), ('action crime', 4), ('crime drama', 68), ('drama thriller', 106), ('adventure science', 29), ('animation', 33), ('family', 109), ('animation family', 38), ('fantasy family', 130), ('action science', 12), ('adventure action', 17), ('action thriller', 13), ('thriller crime', 238), ('western', 265), ('adventure western', 32), ('adventure family', 23), ('family fantasy', 115), ('fiction action', 139), ('action fantasy', 7), ('comedy', 44), ('action comedy', 3), ('comedy science', 59), ('adventure drama', 22), ('drama action', 91), ('romance', 214), ('drama romance', 104), ('romance thriller', 228), ('thriller action', 235), ('fiction thriller', 150), ('adventure thriller', 30), ('fantasy adventure', 126), ('family adventure', 111), ('adventure comedy', 19), ('thriller science', 247), ('family comedy', 113), ('horror', 170), ('action drama', 5), ('drama horror', 101), ('horror science', 180), ('action family', 6), ('action romance', 11), ('fiction adventure', 140), ('adventure animation', 18), ('animation adventure', 35), ('comedy family', 51), ('family action', 110), ('comedy crime', 48), ('crime thriller', 78), ('animation drama', 37), ('fiction fantasy', 146), ('animation comedy', 36), ('drama family', 97), ('fiction western', 152), ('crime fantasy', 70), ('fantasy comedy', 128), ('drama comedy', 94), ('comedy animation', 47), ('drama fantasy', 98), ('fantasy drama', 129), ('family romance', 120), ('fiction romance', 149), ('comedy adventure', 46), ('fantasy animation', 127), ('mystery', 200), ('family mystery', 119), ('mystery science', 210), ('family animation', 112), ('animation action', 34), ('drama science', 105), ('fiction mystery', 148), ('mystery adventure', 202), ('thriller mystery', 245), ('mystery romance', 209), ('comedy drama', 50), ('thriller adventure', 236), ('history', 158), ('war', 252), ('history romance', 166), ('romance war', 230), ('war history', 258), ('history action', 159), ('horror action', 171), ('comedy fantasy', 52), ('horror thriller', 181), ('drama war', 107), ('action animation', 2), ('action war', 14), ('action mystery', 10), ('drama mystery', 103), ('animation fantasy', 39), ('western drama', 271), ('drama adventure', 92), ('family western', 123), ('western adventure', 267), ('mystery thriller', 211), ('animation science', 42), ('fiction family', 145), ('comedy thriller', 60), ('animation mystery', 41), ('family science', 121), ('crime mystery', 75), ('fantasy horror', 131), ('adventure mystery', 27), ('action history', 8), ('history war', 168), ('thriller drama', 240), ('drama history', 100), ('war action', 253), ('crime comedy', 67), ('fiction drama', 144), ('adventure history', 25), ('music', 187), ('romance family', 221), ('animation music', 40), ('comedy romance', 58), ('history crime', 160), ('drama crime', 95), ('drama western', 108), ('drama animation', 93), ('thriller romance', 246), ('horror mystery', 178), ('romance fantasy', 222), ('family drama', 114), ('western history', 272), ('mystery drama', 204), ('thriller history', 242), ('comedy action', 45), ('thriller fantasy', 241), ('fantasy thriller', 136), ('romance science', 227), ('history thriller', 167), ('romance drama', 220), ('fantasy romance', 134), ('drama music', 102), ('horror comedy', 172), ('family music', 118), ('music animation', 189), ('crime science', 77), ('romance comedy', 218), ('fantasy mystery', 133), ('mystery family', 205), ('war drama', 257), ('western animation', 268), ('fiction war', 151), ('music romance', 197), ('documentary', 80), ('documentary family', 85), ('thriller horror', 243), ('comedy music', 56), ('crime romance', 76), ('war science', 262), ('thriller war', 248), ('fantasy music', 132), ('fantasy war', 137), ('action horror', 9), ('music family', 194), ('mystery action', 201), ('history drama', 162), ('crime action', 65), ('action western', 15), ('mystery western', 213), ('adventure war', 31), ('music documentary', 192), ('fiction horror', 147), ('fiction animation', 141), ('romance adventure', 216), ('adventure horror', 26), ('fiction comedy', 142), ('comedy western', 63), ('family thriller', 122), ('crime adventure', 66), ('crime family', 69), ('horror romance', 179), ('romance animation', 217), ('comedy horror', 55), ('horror fantasy', 176), ('adventure romance', 28), ('music drama', 193), ('mystery war', 212), ('romance western', 231), ('history western', 169), ('western thriller', 275), ('romance action', 215), ('romance horror', 225), ('history mystery', 165), ('comedy war', 62), ('crime history', 72), ('war adventure', 254), ('war romance', 261), ('western crime', 270), ('crime horror', 73), ('war crime', 256), ('music comedy', 190), ('romance history', 224), ('mystery fantasy', 206), ('romance crime', 219), ('family horror', 117), ('thriller music', 244), ('war music', 259), ('mystery crime', 203), ('comedy documentary', 49), ('documentary action', 81), ('horror drama', 175), ('music adventure', 188), ('western music', 273), ('romance music', 226), ('foreign', 153), ('drama foreign', 99), ('thriller western', 249), ('crime war', 79), ('mystery horror', 207), ('music crime', 191), ('history music', 164), ('war comedy', 255), ('western action', 266), ('horror crime', 173), ('history family', 163), ('thriller comedy', 237), ('documentary music', 88), ('crime music', 74), ('comedy mystery', 57), ('crime foreign', 71), ('romance foreign', 223), ('western romance', 274), ('mystery music', 208), ('foreign romance', 156), ('foreign history', 155), ('family foreign', 116), ('music science', 198), ('tv', 250), ('movie', 182), ('tv movie', 251), ('movie romance', 186), ('music mystery', 196), ('fiction crime', 143), ('war mystery', 260), ('comedy foreign', 53), ('documentary comedy', 82), ('war thriller', 263), ('movie crime', 184), ('music tv', 199), ('drama documentary', 96), ('comedy history', 54), ('romance tv', 229), ('war western', 264), ('movie horror', 185), ('movie action', 183), ('western comedy', 269), ('documentary drama', 84), ('animation war', 43), ('history documentary', 161), ('horror history', 177), ('thriller documentary', 239), ('documentary crime', 83), ('horror documentary', 174), ('documentary mystery', 89), ('adventure documentary', 21), ('documentary foreign', 86), ('music horror', 195), ('foreign documentary', 154), ('comedy tv', 61), ('documentary history', 87), ('foreign thriller', 157)])\n",
      "(4803, 276)\n"
     ]
    }
   ],
   "source": [
    "from sklearn.feature_extraction.text import TfidfVectorizer\n",
    "\n",
    "tfidf_vec = TfidfVectorizer(ngram_range=(1, 2))\n",
    "tfidf_matrix = tfidf_vec.fit_transform(movies['genres'])\n",
    "print(tfidf_vec.vocabulary_.items())\n",
    "\n",
    "# 4803은 영화의 개수, 276은 단어의 개수, 하나의 영화를 276개 열을 가진 벡터로 표현\n",
    "print(tfidf_matrix.shape)"
   ]
  },
  {
   "cell_type": "code",
   "execution_count": 23,
   "metadata": {
    "scrolled": true
   },
   "outputs": [
    {
     "name": "stdout",
     "output_type": "stream",
     "text": [
      "[[1.         0.49309367 0.29270708 ... 0.         0.         0.        ]\n",
      " [0.49309367 1.         0.17786505 ... 0.         0.         0.        ]\n",
      " [0.29270708 0.17786505 1.         ... 0.         0.         0.        ]\n",
      " ...\n",
      " [0.         0.         0.         ... 1.         0.         0.        ]\n",
      " [0.         0.         0.         ... 0.         0.         0.        ]\n",
      " [0.         0.         0.         ... 0.         0.         1.        ]]\n",
      "[[   0  870 3494 ... 2355 2397 4802]\n",
      " [ 329  379  199 ... 2323 2325 4802]\n",
      " [1740    2 1542 ... 2359 2344 4802]\n",
      " ...\n",
      " [4800 3809 3285 ... 2085 2142 4802]\n",
      " [   0 3205 3204 ... 1596 1594 4802]\n",
      " [4802 4593 4583 ... 1597 1595 2401]]\n"
     ]
    }
   ],
   "source": [
    "# 유사도 행렬 (4083, 4083)\n",
    "# 1, 1 (1번째 영화와 1번째 영화의 유사도)\n",
    "from sklearn.metrics.pairwise import cosine_similarity\n",
    "\n",
    "genres_similarity = cosine_similarity(tfidf_matrix, tfidf_matrix)\n",
    "print(genres_similarity)\n",
    "\n",
    "# 유사도가 높은 영화를 알고 싶다\n",
    "# 유사도 값이 높은 것의 인덱스를 내림차순으로 출력/리턴\n",
    "similar_index = np.argsort(-genres_similarity)\n",
    "print(similar_index)"
   ]
  },
  {
   "cell_type": "code",
   "execution_count": 25,
   "metadata": {},
   "outputs": [
    {
     "name": "stdout",
     "output_type": "stream",
     "text": [
      "The Dark Knight\n",
      "[65]\n",
      "[[  65  613  830 2229 2074 1488 3591 2111  739  468]]\n",
      "[  65  613  830 2229 2074 1488 3591 2111  739  468]\n"
     ]
    },
    {
     "ename": "NameError",
     "evalue": "name 'moveis' is not defined",
     "output_type": "error",
     "traceback": [
      "\u001b[1;31m---------------------------------------------------------------------------\u001b[0m",
      "\u001b[1;31mNameError\u001b[0m                                 Traceback (most recent call last)",
      "\u001b[1;32m<ipython-input-25-231cea603a27>\u001b[0m in \u001b[0;36m<module>\u001b[1;34m\u001b[0m\n\u001b[0;32m     12\u001b[0m \u001b[0msimilar_movies_index\u001b[0m  \u001b[1;33m=\u001b[0m \u001b[0msimilar_movies\u001b[0m\u001b[1;33m.\u001b[0m\u001b[0mreshape\u001b[0m\u001b[1;33m(\u001b[0m\u001b[1;33m-\u001b[0m\u001b[1;36m1\u001b[0m\u001b[1;33m)\u001b[0m\u001b[1;33m\u001b[0m\u001b[1;33m\u001b[0m\u001b[0m\n\u001b[0;32m     13\u001b[0m \u001b[0mprint\u001b[0m\u001b[1;33m(\u001b[0m\u001b[0msimilar_movies_index\u001b[0m\u001b[1;33m)\u001b[0m\u001b[1;33m\u001b[0m\u001b[1;33m\u001b[0m\u001b[0m\n\u001b[1;32m---> 14\u001b[1;33m \u001b[0mprint\u001b[0m\u001b[1;33m(\u001b[0m\u001b[0mmoveis\u001b[0m\u001b[1;33m.\u001b[0m\u001b[0miloc\u001b[0m\u001b[1;33m[\u001b[0m\u001b[0msimilar_movies_index\u001b[0m\u001b[1;33m]\u001b[0m\u001b[1;33m)\u001b[0m\u001b[1;33m\u001b[0m\u001b[1;33m\u001b[0m\u001b[0m\n\u001b[0m",
      "\u001b[1;31mNameError\u001b[0m: name 'moveis' is not defined"
     ]
    }
   ],
   "source": [
    "# 사용자가 입력한 영화의 인덱스 값을 찾아내고\n",
    "# 그 인덱스에 해당하는 유사한 영화인덱스를 찾아내고\n",
    "# 유사한 영화 인덱스를 토대로 영화 이름을 찾아낸다.\n",
    "\n",
    "input_movies = input()\n",
    "\n",
    "movie_index = movies[movies['title'] == input_movies].index.values\n",
    "print(movie_index)\n",
    "similar_movies = similar_index[movie_index, :10]\n",
    "print(similar_movies)\n",
    "\n",
    "similar_movies_index  = similar_movies.reshape(-1)\n",
    "print(similar_movies_index)\n",
    "print(moveis.iloc[similar_movies_index])"
   ]
  },
  {
   "cell_type": "code",
   "execution_count": null,
   "metadata": {},
   "outputs": [],
   "source": []
  },
  {
   "cell_type": "code",
   "execution_count": null,
   "metadata": {},
   "outputs": [],
   "source": []
  }
 ],
 "metadata": {
  "kernelspec": {
   "display_name": "Python 3",
   "language": "python",
   "name": "python3"
  },
  "language_info": {
   "codemirror_mode": {
    "name": "ipython",
    "version": 3
   },
   "file_extension": ".py",
   "mimetype": "text/x-python",
   "name": "python",
   "nbconvert_exporter": "python",
   "pygments_lexer": "ipython3",
   "version": "3.7.6"
  }
 },
 "nbformat": 4,
 "nbformat_minor": 4
}
